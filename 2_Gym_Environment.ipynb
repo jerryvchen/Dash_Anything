{
 "cells": [
  {
   "cell_type": "markdown",
   "metadata": {},
   "source": [
    "# Gym Environment\n",
    "In order for the agent to interact with the environment, we need an environment for our agent to exist in. This will simply adapt visuals present in the game into actions/observations to be made."
   ]
  },
  {
   "cell_type": "markdown",
   "metadata": {},
   "source": [
    "## Event Detector\n",
    "The only events we need to detect is when the player dies or completes a level."
   ]
  },
  {
   "cell_type": "code",
   "execution_count": 1,
   "metadata": {},
   "outputs": [],
   "source": [
    "import cv2\n",
    "import matplotlib.pyplot as plt"
   ]
  },
  {
   "cell_type": "code",
   "execution_count": null,
   "metadata": {},
   "outputs": [],
   "source": [
    "# manually created crop areas\n",
    "# locations are at...\n",
    "# complete level tag\n",
    "#   plt.imshow(frame[110:150, 120:520])\n",
    "#   120, 110, 400, 40\n",
    "# retry button\n",
    "#   plt.imshow(frame[375:425, 160:215])\n",
    "#   160, 375, 55, 50"
   ]
  },
  {
   "cell_type": "code",
   "execution_count": 67,
   "metadata": {},
   "outputs": [],
   "source": [
    "cap = cv2.VideoCapture(1)  # Use your screen capture setup\n",
    "ret, frame = cap.read()\n",
    "cap.release()"
   ]
  },
  {
   "cell_type": "code",
   "execution_count": 68,
   "metadata": {},
   "outputs": [],
   "source": [
    "class EventDetectorWithROI:\n",
    "    def __init__(self, completion_template_path, retry_template_path, completion_roi, retry_roi,):\n",
    "        # templates\n",
    "        self.completion_template = cv2.imread(completion_template_path, cv2.IMREAD_GRAYSCALE)\n",
    "        self.retry_template = cv2.imread(retry_template_path, cv2.IMREAD_GRAYSCALE)\n",
    "\n",
    "        # roi regions\n",
    "        self.retry_roi = retry_roi\n",
    "        self.completion_roi = completion_roi\n",
    "\n",
    "    def _crop_to_roi(self, frame, roi):\n",
    "        \"\"\"\n",
    "        Crop the frame to the given ROI.\n",
    "        \"\"\"\n",
    "        x, y, w, h = roi\n",
    "        return frame[y:y+h, x:x+w]\n",
    "\n",
    "    def detect_event(self, frame):\n",
    "        \"\"\"\n",
    "        Detect if the player has died or completed the level.\n",
    "        \n",
    "        returns tring \"death\", \"completion\", or None\n",
    "        \"\"\"\n",
    "        # Convert the frame to grayscale\n",
    "        gray_frame = cv2.cvtColor(frame, cv2.COLOR_BGR2GRAY)\n",
    "\n",
    "        # Crop the ROIs\n",
    "        retry_roi_frame = self._crop_to_roi(gray_frame, self.retry_roi)\n",
    "        completion_roi_frame = self._crop_to_roi(gray_frame, self.completion_roi)\n",
    "\n",
    "        # Detect completion (Completion screen)\n",
    "        completion_res = cv2.matchTemplate(completion_roi_frame, self.completion_template, cv2.TM_CCOEFF_NORMED)\n",
    "        completion_threshold = 0.8\n",
    "        if (completion_res >= completion_threshold).any():\n",
    "            return \"completion\"\n",
    "        \n",
    "        # Detect death (Retry button), also after completion\n",
    "        retry_res = cv2.matchTemplate(retry_roi_frame, self.retry_template, cv2.TM_CCOEFF_NORMED)\n",
    "        retry_threshold = 0.8\n",
    "        if (retry_res >= retry_threshold).any():\n",
    "            return \"death\"\n",
    "\n",
    "        # Detect completion (Completion screen)\n",
    "        completion_res = cv2.matchTemplate(completion_roi_frame, self.completion_template, cv2.TM_CCOEFF_NORMED)\n",
    "        completion_threshold = 0.8\n",
    "        if (completion_res >= completion_threshold).any():\n",
    "            return \"completion\"\n",
    "\n",
    "        return None\n"
   ]
  },
  {
   "cell_type": "code",
   "execution_count": 69,
   "metadata": {},
   "outputs": [
    {
     "name": "stdout",
     "output_type": "stream",
     "text": [
      "Player died!\n"
     ]
    }
   ],
   "source": [
    "# In (x, y, width, height)\n",
    "completion_roi = (120, 110, 400, 40)\n",
    "retry_roi = (160, 375, 55, 50) \n",
    "\n",
    "# Initialize the detector with templates and ROIs\n",
    "detector = EventDetectorWithROI(\n",
    "    \"./template_img/complete_template.png\",\n",
    "    \"./template_img/retry_template.png\",\n",
    "    completion_roi,\n",
    "    retry_roi\n",
    ")\n",
    "\n",
    "# Test the detector\n",
    "cap = cv2.VideoCapture(1)  # Use your screen capture setup\n",
    "ret, frame = cap.read()\n",
    "cap.release()\n",
    "\n",
    "event = detector.detect_event(frame)\n",
    "if event == \"death\":\n",
    "    print(\"Player died!\")\n",
    "elif event == \"completion\":\n",
    "    print(\"Level completed!\")\n",
    "else:\n",
    "    print(\"No event detected.\")"
   ]
  },
  {
   "cell_type": "markdown",
   "metadata": {},
   "source": [
    "## Input Controller\n",
    "First thing is to create a framework to interact with the GD game."
   ]
  },
  {
   "cell_type": "markdown",
   "metadata": {},
   "source": []
  }
 ],
 "metadata": {
  "kernelspec": {
   "display_name": ".venv",
   "language": "python",
   "name": "python3"
  },
  "language_info": {
   "codemirror_mode": {
    "name": "ipython",
    "version": 3
   },
   "file_extension": ".py",
   "mimetype": "text/x-python",
   "name": "python",
   "nbconvert_exporter": "python",
   "pygments_lexer": "ipython3",
   "version": "3.12.5"
  }
 },
 "nbformat": 4,
 "nbformat_minor": 2
}
