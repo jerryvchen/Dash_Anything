{
 "cells": [
  {
   "cell_type": "markdown",
   "metadata": {},
   "source": [
    "# Gym Environment\n",
    "In order for the agent to interact with the environment, we need an environment for our agent to exist in. This will simply adapt visuals present in the game into actions/observations to be made."
   ]
  },
  {
   "cell_type": "markdown",
   "metadata": {},
   "source": [
    "## Event Detector\n",
    "The only events we need to detect is when the player dies or completes a level."
   ]
  },
  {
   "cell_type": "code",
   "execution_count": 1,
   "metadata": {},
   "outputs": [],
   "source": [
    "import cv2\n",
    "import matplotlib.pyplot as plt"
   ]
  },
  {
   "cell_type": "code",
   "execution_count": 2,
   "metadata": {},
   "outputs": [],
   "source": [
    "# manually created crop areas\n",
    "# locations are at...\n",
    "# complete level tag\n",
    "#   plt.imshow(frame[110:150, 120:520])\n",
    "#   120, 110, 400, 40\n",
    "# retry button\n",
    "#   plt.imshow(frame[375:425, 160:215])\n",
    "#   160, 375, 55, 50"
   ]
  },
  {
   "cell_type": "code",
   "execution_count": 3,
   "metadata": {},
   "outputs": [],
   "source": [
    "cap = cv2.VideoCapture(1)  # Use your screen capture setup\n",
    "ret, frame = cap.read()\n",
    "cap.release()"
   ]
  },
  {
   "cell_type": "code",
   "execution_count": 4,
   "metadata": {},
   "outputs": [],
   "source": [
    "class EventDetectorWithROI:\n",
    "    def __init__(self, completion_template_path, retry_template_path, completion_roi, retry_roi,):\n",
    "        # templates\n",
    "        self.completion_template = cv2.imread(completion_template_path, cv2.IMREAD_GRAYSCALE)\n",
    "        self.retry_template = cv2.imread(retry_template_path, cv2.IMREAD_GRAYSCALE)\n",
    "\n",
    "        # roi regions\n",
    "        self.retry_roi = retry_roi\n",
    "        self.completion_roi = completion_roi\n",
    "\n",
    "    def _crop_to_roi(self, frame, roi):\n",
    "        \"\"\"\n",
    "        Crop the frame to the given ROI.\n",
    "        \"\"\"\n",
    "        x, y, w, h = roi\n",
    "        return frame[y:y+h, x:x+w]\n",
    "\n",
    "    def detect_event(self, frame):\n",
    "        \"\"\"\n",
    "        Detect if the player has died or completed the level.\n",
    "        \n",
    "        returns tring \"death\", \"completion\", or None\n",
    "        \"\"\"\n",
    "        # Convert the frame to grayscale\n",
    "        gray_frame = cv2.cvtColor(frame, cv2.COLOR_BGR2GRAY)\n",
    "\n",
    "        # Crop the ROIs\n",
    "        retry_roi_frame = self._crop_to_roi(gray_frame, self.retry_roi)\n",
    "        completion_roi_frame = self._crop_to_roi(gray_frame, self.completion_roi)\n",
    "\n",
    "        # Detect completion (Completion screen)\n",
    "        completion_res = cv2.matchTemplate(completion_roi_frame, self.completion_template, cv2.TM_CCOEFF_NORMED)\n",
    "        completion_threshold = 0.8\n",
    "        if (completion_res >= completion_threshold).any():\n",
    "            return \"completion\"\n",
    "        \n",
    "        # Detect death (Retry button), also after completion\n",
    "        retry_res = cv2.matchTemplate(retry_roi_frame, self.retry_template, cv2.TM_CCOEFF_NORMED)\n",
    "        retry_threshold = 0.8\n",
    "        if (retry_res >= retry_threshold).any():\n",
    "            return \"death\"\n",
    "\n",
    "        # Detect completion (Completion screen)\n",
    "        completion_res = cv2.matchTemplate(completion_roi_frame, self.completion_template, cv2.TM_CCOEFF_NORMED)\n",
    "        completion_threshold = 0.8\n",
    "        if (completion_res >= completion_threshold).any():\n",
    "            return \"completion\"\n",
    "\n",
    "        return None\n"
   ]
  },
  {
   "cell_type": "code",
   "execution_count": 5,
   "metadata": {},
   "outputs": [
    {
     "name": "stdout",
     "output_type": "stream",
     "text": [
      "No event detected.\n"
     ]
    }
   ],
   "source": [
    "# In (x, y, width, height)\n",
    "completion_roi = (120, 110, 400, 40)\n",
    "retry_roi = (160, 375, 55, 50) \n",
    "\n",
    "# Initialize the detector with templates and ROIs\n",
    "detector = EventDetectorWithROI(\n",
    "    \"./template_img/complete_template.png\",\n",
    "    \"./template_img/retry_template.png\",\n",
    "    completion_roi,\n",
    "    retry_roi\n",
    ")\n",
    "\n",
    "# Test the detector\n",
    "cap = cv2.VideoCapture(1)  # Use your screen capture setup\n",
    "ret, frame = cap.read()\n",
    "cap.release()\n",
    "\n",
    "event = detector.detect_event(frame)\n",
    "if event == \"death\":\n",
    "    print(\"Player died!\")\n",
    "elif event == \"completion\":\n",
    "    print(\"Level completed!\")\n",
    "else:\n",
    "    print(\"No event detected.\")"
   ]
  },
  {
   "cell_type": "markdown",
   "metadata": {},
   "source": [
    "## Input Controller\n",
    "First thing is to create a framework to interact with the GD game."
   ]
  },
  {
   "cell_type": "code",
   "execution_count": 6,
   "metadata": {},
   "outputs": [],
   "source": [
    "import cv2\n",
    "import win32gui\n",
    "import win32api\n",
    "import win32con\n",
    "import time"
   ]
  },
  {
   "cell_type": "code",
   "execution_count": 7,
   "metadata": {},
   "outputs": [],
   "source": [
    "def get_gd_hwnd():\n",
    "    window_name = \"Geometry Dash\"\n",
    "    hwnd = win32gui.FindWindow(None, window_name)\n",
    "    if hwnd == 0:\n",
    "        raise \"Geometry Dash window not found. Make sure the game is running.\"\n",
    "    # print(f\"Found Geometry Dash window: {hwnd}\")\n",
    "    return hwnd\n",
    "\n",
    "def send_spacebar(hwnd):\n",
    "    if hwnd:\n",
    "        # Send spacebar down (WM_KEYDOWN) and up (WM_KEYUP) messages\n",
    "        win32api.PostMessage(hwnd, win32con.WM_KEYDOWN, win32con.VK_SPACE, 0)\n",
    "        time.sleep(0.05)  # Short press duration (50ms)\n",
    "        # Send key up (WM_KEYUP)\n",
    "        win32api.PostMessage(hwnd, win32con.WM_KEYUP, win32con.VK_SPACE, 0xC0000000)\n",
    "        print(\"Spacebar sent to Geometry Dash!\")\n",
    "    else:\n",
    "        print(\"Invalid window handle. Cannot send input.\")"
   ]
  },
  {
   "cell_type": "markdown",
   "metadata": {},
   "source": [
    "## Gym env"
   ]
  },
  {
   "cell_type": "code",
   "execution_count": 8,
   "metadata": {},
   "outputs": [],
   "source": [
    "import gym"
   ]
  },
  {
   "cell_type": "code",
   "execution_count": null,
   "metadata": {},
   "outputs": [],
   "source": [
    "class GeometryDashEnv(gym.Env):\n",
    "    \"\"\"\n",
    "    Custom Gym environment for Geometry Dash with death and completion detection.\n",
    "    \"\"\"\n",
    "    def __init__(self, frame_stacker, resnet_extractor, input_controller):\n",
    "        super(GeometryDashEnv, self).__init__()\n",
    "\n",
    "        # Frame stacker, ResNet feature extractor, and input controller\n",
    "        self.frame_stacker = frame_stacker\n",
    "        self.resnet_extractor = resnet_extractor\n",
    "        self.input_controller = input_controller\n",
    "\n",
    "        # Observation space (e.g., stacked ResNet embeddings)\n",
    "        self.observation_space = spaces.Box(\n",
    "            low=-np.inf,\n",
    "            high=np.inf,\n",
    "            shape=(2048 * frame_stacker.stack_size,),  # Adjust for stacked embeddings\n",
    "            dtype=np.float32,\n",
    "        )\n",
    "\n",
    "        # Action space (KeyUp or KeyDown)\n",
    "        self.action_space = spaces.Discrete(2)\n",
    "\n",
    "        # Initialize environment variables\n",
    "        self.current_state = None\n",
    "        self.done = False\n",
    "        self.previous_action = None\n",
    "\n",
    "    def reset(self):\n",
    "        \"\"\"\n",
    "        Reset the environment and return the initial observation.\n",
    "        \"\"\"\n",
    "        self.input_controller.reset_game()  # Reset the game\n",
    "\n",
    "        # Capture the first frame and process it\n",
    "        frame = self._capture_frame()\n",
    "        initial_embedding = self.resnet_extractor.get_image_embeddings(frame)\n",
    "\n",
    "        # Initialize frame stack\n",
    "        self.current_state = self.frame_stacker.reset_stack(initial_embedding)\n",
    "        self.done = False\n",
    "        self.previous_action = None\n",
    "\n",
    "        return self.current_state\n",
    "\n",
    "    def step(self, action):\n",
    "        \"\"\"\n",
    "        Perform an action and return observation, reward, done, and info.\n",
    "        \"\"\"\n",
    "        # Send the action to the game\n",
    "        if action != self.previous_action:\n",
    "            self.input_controller.send_input(action)\n",
    "            self.previous_action = action\n",
    "\n",
    "        # Capture the next frame and process it\n",
    "        frame = self._capture_frame()\n",
    "        next_embedding = self.resnet_extractor.get_image_embeddings(frame)\n",
    "        self.current_state = self.frame_stacker.add_frame(next_embedding)\n",
    "\n",
    "        # Check for death or completion\n",
    "        event = self.input_controller.detect_death_or_completion()\n",
    "        self.done = event in [\"death\", \"completion\"]\n",
    "\n",
    "        # Calculate reward\n",
    "        reward = self._calculate_reward(event)\n",
    "\n",
    "        return self.current_state, reward, self.done, {}\n",
    "\n",
    "    def _capture_frame(self):\n",
    "        \"\"\"\n",
    "        Capture the game screen and return the frame.\n",
    "        \"\"\"\n",
    "        ret, frame = self.input_controller.get_screen()\n",
    "        if not ret:\n",
    "            raise RuntimeError(\"Failed to capture game screen.\")\n",
    "        return frame\n",
    "\n",
    "    def _calculate_reward(self, event):\n",
    "        \"\"\"\n",
    "        Calculate the reward based on the current event.\n",
    "        \"\"\"\n",
    "        if event == \"death\":\n",
    "            return -100  # Penalty for death\n",
    "        elif event == \"completion\":\n",
    "            return 500  # Reward for completing the level\n",
    "        else:\n",
    "            return 0.2  # Survival reward\n"
   ]
  },
  {
   "cell_type": "code",
   "execution_count": null,
   "metadata": {},
   "outputs": [],
   "source": []
  }
 ],
 "metadata": {
  "kernelspec": {
   "display_name": ".venv",
   "language": "python",
   "name": "python3"
  },
  "language_info": {
   "codemirror_mode": {
    "name": "ipython",
    "version": 3
   },
   "file_extension": ".py",
   "mimetype": "text/x-python",
   "name": "python",
   "nbconvert_exporter": "python",
   "pygments_lexer": "ipython3",
   "version": "3.12.5"
  }
 },
 "nbformat": 4,
 "nbformat_minor": 2
}
