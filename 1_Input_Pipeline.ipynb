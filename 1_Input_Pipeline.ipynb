{
 "cells": [
  {
   "cell_type": "markdown",
   "metadata": {},
   "source": [
    "# Input Pipeline\n",
    "To make observations of the Geometry Dash screen (the environment) requires us to create a pipeline. We need to both record the GD screen, as well as preprocess it before feeding it to our model.\n",
    "\n",
    "### Why preprocess?\n",
    "Let's say you take a frame from GD. Then you take the next one. The pixels between frame 1 and 2 will not look the same mathematically, yet intuitively we know that most of the values have only shifted over by a small transformations. It may be more effective to thus preprocess the image to get important features out of the image first.\n",
    "\n",
    "### What is frame stacking?\n",
    "You need multiple frames to sense a \"movement.\" Think about a single frame of the game \"Pong\"--which way is the ball going?"
   ]
  },
  {
   "cell_type": "markdown",
   "metadata": {},
   "source": [
    "## Stream Game\n",
    "We will use the virtual camera provided on OBS Studio and opencv-python to read input."
   ]
  },
  {
   "cell_type": "code",
   "execution_count": null,
   "metadata": {},
   "outputs": [],
   "source": [
    "import cv2\n",
    "\n",
    "VIDEO_IDX = 1 # adjust to find OBS virtual camera\n",
    "# usually 0, unless u have another camera"
   ]
  },
  {
   "cell_type": "code",
   "execution_count": null,
   "metadata": {},
   "outputs": [],
   "source": [
    "cap = cv2.VideoCapture(VIDEO_IDX) # get camera \n",
    "\n",
    "if not cap.isOpened():\n",
    "    print('cannot access OBS')\n",
    "else:\n",
    "    while True:\n",
    "        ret, frame = cap.read()\n",
    "        if not ret:\n",
    "            break\n",
    "\n",
    "        cv2.imshow('GD Stream', frame)\n",
    "        if cv2.waitKey(1) & 0xFF == ord('q'): # press q to get rid of the screen\n",
    "            break\n",
    "    \n",
    "    # release resources\n",
    "    cap.release()\n",
    "    cv2.destroyAllWindows()"
   ]
  },
  {
   "cell_type": "markdown",
   "metadata": {},
   "source": [
    "## CNN Preprocessing\n",
    "We will use the pre-trained ResNet50 model available from PyTorch."
   ]
  },
  {
   "cell_type": "code",
   "execution_count": 4,
   "metadata": {},
   "outputs": [
    {
     "data": {
      "text/plain": [
       "device(type='cuda')"
      ]
     },
     "execution_count": 4,
     "metadata": {},
     "output_type": "execute_result"
    }
   ],
   "source": [
    "# Imports \n",
    "from torchvision.models import resnet50, ResNet50_Weights\n",
    "import torch\n",
    "\n",
    "device = torch.device('cuda' if torch.cuda.is_available() else 'cpu')\n",
    "device"
   ]
  },
  {
   "cell_type": "code",
   "execution_count": 5,
   "metadata": {},
   "outputs": [
    {
     "name": "stderr",
     "output_type": "stream",
     "text": [
      "Downloading: \"https://download.pytorch.org/models/resnet50-11ad3fa6.pth\" to C:\\Users\\Jerry Chen/.cache\\torch\\hub\\checkpoints\\resnet50-11ad3fa6.pth\n",
      "100.0%\n"
     ]
    }
   ],
   "source": [
    "# CNN (use ResNet50)\n",
    "\n",
    "# initialize weights/preprocessing steps\n",
    "weights = ResNet50_Weights.DEFAULT\n",
    "preprocess = weights.transforms()\n",
    "\n",
    "# get model\n",
    "model = resnet50(weights=weights).to(device)\n",
    "model.eval()\n",
    "\n",
    "# get model minus last layer (get embeddings)\n",
    "feature_extractor = torch.nn.Sequential(*(list(model.children())[:-1])).to(device)"
   ]
  },
  {
   "cell_type": "code",
   "execution_count": 6,
   "metadata": {},
   "outputs": [],
   "source": [
    "def get_img_embedding(img):\n",
    "    # add batch dim\n",
    "    img_transformed = preprocess(img).unsqueeze(0).to(device)\n",
    "\n",
    "    with torch.no_grad():\n",
    "        embedding = feature_extractor(img_transformed).view(1, -1)\n",
    "    return embedding"
   ]
  },
  {
   "cell_type": "code",
   "execution_count": 13,
   "metadata": {},
   "outputs": [],
   "source": [
    "from PIL import Image"
   ]
  },
  {
   "cell_type": "code",
   "execution_count": 18,
   "metadata": {},
   "outputs": [
    {
     "name": "stdout",
     "output_type": "stream",
     "text": [
      "tensor([[0.0000, 0.0000, 0.1878,  ..., 0.0123, 0.0346, 0.0000]],\n",
      "       device='cuda:0')\n",
      "torch.Size([1, 2048])\n"
     ]
    }
   ],
   "source": [
    "img = Image.open('test.png').convert(\"RGB\")\n",
    "embed = get_img_embedding(img)\n",
    "print(embed)\n",
    "print(embed.shape)"
   ]
  },
  {
   "cell_type": "markdown",
   "metadata": {},
   "source": [
    "## Frame Stacker\n",
    "Custom built to accomodate for any embedding model."
   ]
  },
  {
   "cell_type": "code",
   "execution_count": 1,
   "metadata": {},
   "outputs": [],
   "source": [
    "from collections import deque\n",
    "import numpy as np"
   ]
  },
  {
   "cell_type": "code",
   "execution_count": 3,
   "metadata": {},
   "outputs": [],
   "source": [
    "class FrameStacker:\n",
    "    def __init__(self, stack_size=4, embedding_dim=2048):\n",
    "        self.stack_size = stack_size\n",
    "        self.embedding_dim = embedding_dim\n",
    "        self.stack = deque(maxlen=stack_size)  # Fixed-size buffer\n",
    "\n",
    "    def reset_stack(self, initial_embedding):\n",
    "        self.stack.clear()\n",
    "        for _ in range(self.stack_size): # fill with copies of first frame\n",
    "            self.stack.append(initial_embedding)\n",
    "        return self._get_stacked_embeddings()\n",
    "\n",
    "    def add_frame(self, embedding):\n",
    "        self.stack.append(embedding)\n",
    "        return self._get_stacked_embeddings() # also returns current stacked embedings\n",
    "\n",
    "    def _get_stacked_embeddings(self):\n",
    "        return np.concatenate(self.stack, axis=0)"
   ]
  },
  {
   "cell_type": "code",
   "execution_count": null,
   "metadata": {},
   "outputs": [],
   "source": []
  }
 ],
 "metadata": {
  "kernelspec": {
   "display_name": ".venv",
   "language": "python",
   "name": "python3"
  },
  "language_info": {
   "codemirror_mode": {
    "name": "ipython",
    "version": 3
   },
   "file_extension": ".py",
   "mimetype": "text/x-python",
   "name": "python",
   "nbconvert_exporter": "python",
   "pygments_lexer": "ipython3",
   "version": "3.12.5"
  }
 },
 "nbformat": 4,
 "nbformat_minor": 2
}
