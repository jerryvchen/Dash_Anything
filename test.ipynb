{
 "cells": [
  {
   "cell_type": "code",
   "execution_count": 1,
   "metadata": {},
   "outputs": [],
   "source": [
    "import numpy as np\n",
    "import matplotlib.pyplot as plt\n",
    "import cv2"
   ]
  },
  {
   "cell_type": "code",
   "execution_count": 3,
   "metadata": {},
   "outputs": [],
   "source": [
    "cap = cv2.VideoCapture(1)\n",
    "\n",
    "if not cap.isOpened():\n",
    "    print('cannot access OBS')\n",
    "else:\n",
    "    while True:\n",
    "        ret, frame = cap.read()\n",
    "        if not ret:\n",
    "            break\n",
    "\n",
    "        cv2.imshow('GD Stream', frame)\n",
    "        if cv2.waitKey(1) & 0xFF == ord('q'):\n",
    "            break\n",
    "        # frame = cv2.cvtColor(frame, cv2.COLOR_BGR2RGB)\n",
    "        # print(frame.shape)\n",
    "        # plt.imshow(frame)\n",
    "        # plt.axis('off')\n",
    "        # plt.savefig('test.png')\n",
    "        # cap.release()\n",
    "        \n",
    "\n",
    "    cap.release()\n",
    "    cv2.destroyAllWindows()"
   ]
  },
  {
   "cell_type": "code",
   "execution_count": 5,
   "metadata": {},
   "outputs": [],
   "source": [
    "import win32gui\n",
    "import win32api\n",
    "import win32con\n",
    "import cv2\n",
    "import time\n",
    "\n",
    "# Step 1: Find the Geometry Dash window handle\n",
    "def get_gd_hwnd():\n",
    "    window_name = \"Geometry Dash\"\n",
    "    hwnd = win32gui.FindWindow(None, window_name)\n",
    "    if hwnd == 0:\n",
    "        print(\"Geometry Dash window not found. Make sure the game is running.\")\n",
    "        return None\n",
    "    print(f\"Found Geometry Dash window: {hwnd}\")\n",
    "    return hwnd\n",
    "\n",
    "# Step 2: Send a spacebar press to the Geometry Dash window\n",
    "def send_spacebar(hwnd):\n",
    "    if hwnd:\n",
    "        # Send spacebar down (WM_KEYDOWN) and up (WM_KEYUP) messages\n",
    "        win32api.PostMessage(hwnd, win32con.WM_KEYDOWN, win32con.VK_SPACE, 0)\n",
    "        time.sleep(0.05)  # Short press duration (50ms)\n",
    "        # Send key up (WM_KEYUP)\n",
    "        win32api.PostMessage(hwnd, win32con.WM_KEYUP, win32con.VK_SPACE, 0xC0000000)\n",
    "        print(\"Spacebar sent to Geometry Dash!\")\n",
    "    else:\n",
    "        print(\"Invalid window handle. Cannot send input.\")\n",
    "\n",
    "# Step 3: Stream the video feed\n",
    "def stream_video():\n",
    "    cap = cv2.VideoCapture(1)  # Use the correct camera index for OBS Virtual Camera\n",
    "    if not cap.isOpened():\n",
    "        print(\"Video capture failed to open. Check your OBS Virtual Camera setup.\")\n",
    "        return None\n",
    "    print(\"Video capture started.\")\n",
    "    return cap\n",
    "\n",
    "# Step 4: Main loop to send inputs and stream video\n",
    "def main():\n",
    "    hwnd = get_gd_hwnd()  # Get the window handle for Geometry Dash\n",
    "    if not hwnd:\n",
    "        return  # Exit if the window is not found\n",
    "\n",
    "    cap = stream_video()  # Start video capture\n",
    "    if not cap:\n",
    "        return  # Exit if video capture fails\n",
    "\n",
    "    last_spacebar_time = time.time()\n",
    "    try:\n",
    "        while True:\n",
    "            ret, frame = cap.read()\n",
    "            if not ret:\n",
    "                print(\"Failed to capture video frame.\")\n",
    "                break\n",
    "\n",
    "            # Display the video feed\n",
    "            cv2.imshow(\"Geometry Dash Feed\", frame)\n",
    "\n",
    "            # Press spacebar every 10 seconds\n",
    "            if time.time() - last_spacebar_time >= 4:\n",
    "                send_spacebar(hwnd)\n",
    "                last_spacebar_time = time.time()\n",
    "\n",
    "            # Exit on 'q' key press\n",
    "            if cv2.waitKey(1) & 0xFF == ord('q'):\n",
    "                print(\"Exiting...\")\n",
    "                break\n",
    "\n",
    "    finally:\n",
    "        cap.release()\n",
    "        cv2.destroyAllWindows()\n",
    "        print(\"Cleaned up resources.\")\n"
   ]
  },
  {
   "cell_type": "code",
   "execution_count": 6,
   "metadata": {},
   "outputs": [
    {
     "name": "stdout",
     "output_type": "stream",
     "text": [
      "Found Geometry Dash window: 13436232\n",
      "Video capture started.\n",
      "Spacebar sent to Geometry Dash!\n",
      "Spacebar sent to Geometry Dash!\n",
      "Spacebar sent to Geometry Dash!\n",
      "Spacebar sent to Geometry Dash!\n",
      "Spacebar sent to Geometry Dash!\n",
      "Spacebar sent to Geometry Dash!\n",
      "Spacebar sent to Geometry Dash!\n",
      "Spacebar sent to Geometry Dash!\n",
      "Exiting...\n",
      "Cleaned up resources.\n"
     ]
    }
   ],
   "source": [
    "main()"
   ]
  },
  {
   "cell_type": "code",
   "execution_count": null,
   "metadata": {},
   "outputs": [],
   "source": []
  }
 ],
 "metadata": {
  "kernelspec": {
   "display_name": ".venv",
   "language": "python",
   "name": "python3"
  },
  "language_info": {
   "codemirror_mode": {
    "name": "ipython",
    "version": 3
   },
   "file_extension": ".py",
   "mimetype": "text/x-python",
   "name": "python",
   "nbconvert_exporter": "python",
   "pygments_lexer": "ipython3",
   "version": "3.12.5"
  }
 },
 "nbformat": 4,
 "nbformat_minor": 2
}
